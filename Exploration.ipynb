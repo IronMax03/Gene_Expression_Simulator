{
 "cells": [
  {
   "cell_type": "markdown",
   "id": "42348695",
   "metadata": {},
   "source": [
    "## DNA to RNA Basic Transcription\n",
    "### DNA bases & pairing\n",
    "Dna sequences are made of 4 basis: Adenine (**A**), Thymine (**T**), Cytosine (**C**), Guanine (**G**). Each of those basis pairs in the following way: **A-T**, **T-A**, **C-G**, **G-C**. DNA is double-stranded. Only one strand (the **template strand**) is used to make RNA, The other strand is called **coding strand**.\n",
    "\n",
    "### RNA\n",
    "RNA as one extra basis called Uracil (**U**). This new basis replace the pairs with Adenine.\n",
    "The process transcribing DNA to RNA takes the template strand and Build RNA by completing the pairs. Becaus of that Thymine becomes Uracil during the transcription.\n",
    "Example: `ATGCTA -> UACGAU`\n",
    "\n",
    "### Promoter & Terminator\n",
    "**Promoter** is a specific DNA sequence that tells RNA polymerase “start transcribing here.” **Terminator** is a DNA sequence that signals RNA polymerase to stop.\n",
    "Promoters and Terminator arent exaclty define. In this section I will use the following common bacteria(prokaryotes) Promoter & Terminator: `TATAAT`, `TTGACA` as promotors and `TTTTT` as terminator.\n",
    "\n",
    "\n",
    "\n",
    "### Refferences\n",
    "[Overview of Transcription ](https://bio.libretexts.org/Courses/University_of_Arkansas_Little_Rock/Genetics_BIOL3300_(Leacock)/Genetics_Textbook/02%3A_Central_Dogma/2.01%3A_Overview_of_Transcription)"
   ]
  },
  {
   "cell_type": "code",
   "execution_count": null,
   "id": "72f81d80",
   "metadata": {},
   "outputs": [],
   "source": [
    "templateStrand = \"GCG\" + \"TATAAT\" + \"ATGCTAGGGTAA\" + \"TTTTT\"\n"
   ]
  },
  {
   "cell_type": "markdown",
   "id": "a6ff72f5",
   "metadata": {},
   "source": [
    "### Bases Translation"
   ]
  },
  {
   "cell_type": "code",
   "execution_count": 4,
   "id": "f11afc7e",
   "metadata": {},
   "outputs": [
    {
     "name": "stdout",
     "output_type": "stream",
     "text": [
      "DNA strand: TACGAT\n",
      "RNA: AUGCUA\n"
     ]
    }
   ],
   "source": [
    "isolatedStrand = \"TACGAT\"\n",
    "RNA_Sequence = \"\" # expected to be: AUG CUA\n",
    "\n",
    "DNA_RNA_maping = {\n",
    "    'A' : 'U',\n",
    "    'T' : 'A',\n",
    "    'C' : 'G',\n",
    "    'G' : 'C'\n",
    "}\n",
    "\n",
    "for b in isolatedStrand:\n",
    "    RNA_Sequence = RNA_Sequence + DNA_RNA_maping[b]\n",
    "\n",
    "print(f\"DNA strand: {isolatedStrand}\")\n",
    "print(f\"RNA: {RNA_Sequence}\")"
   ]
  },
  {
   "cell_type": "code",
   "execution_count": null,
   "id": "a008b59f",
   "metadata": {},
   "outputs": [],
   "source": []
  }
 ],
 "metadata": {
  "kernelspec": {
   "display_name": ".venv (3.13.5)",
   "language": "python",
   "name": "python3"
  },
  "language_info": {
   "codemirror_mode": {
    "name": "ipython",
    "version": 3
   },
   "file_extension": ".py",
   "mimetype": "text/x-python",
   "name": "python",
   "nbconvert_exporter": "python",
   "pygments_lexer": "ipython3",
   "version": "3.13.5"
  }
 },
 "nbformat": 4,
 "nbformat_minor": 5
}

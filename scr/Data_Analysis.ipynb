{
 "cells": [
  {
   "cell_type": "markdown",
   "id": "e622ca96",
   "metadata": {},
   "source": [
    "This notebook is used for statisticaly analyse a sample of real DNA sequences. Those stats are used for error corrections.\n",
    "The data bases used are: [UCSC Genome Browser](https://genome-euro.ucsc.edu/cgi-bin/hgGateway?token=0.alae9SNJWSG9YVfLP5Tja_K1qR7KPAer7Wq0cYUGxntYv451eBTYAyiwHoVmCQyn-QEy_KFIIqqiOXCqbu_eZTJKkHBbixmGmp954gHew5pR49titMPciB1d5WX6E5XDR0hY_QOxtHEvQlSiddNbB3zextrbBzlUfzJypEKHRk8e5ooQrswN7JZ9rPOmHXpa_TqD_vAAqgVaOCpJYg8RDCv1pHWqUYxW1G3CtILQZOMHg6DKfTpfKXC3kbvT1MTK-nhw1KJzrN8fT3LsW3xKp9b1JCXqMn9Be7QyQnL6AHI2dIDzLNamidW21tnooExzVKlPNc9Kqe12KdVruB8ejHftTarjX1A7S81bBRMJVGXGXFe_RuzSDyx8HRyior70lCIg0Sy6nnHYjLiajZx_mdva2m1tQQyzv5KXZEvcztTWJsJ3oBJzs2ztwvDAbIQnyfoB2bypzTecPl9huQpo-8P5KWwErFNMb7qOnlv-Ny7ljU4A1jvCTxtY9kKriNpwbWDlj6xPTWRNSp76ygKAdI5TBWakRbu_rooxqThj0cMSH0pM2bNuIy41cofG2_fifVkeFI9lPVBUnFpjHwYLtuLU5R5aNwFpqvpj5rkY-zuTon_5Aji-DwjS5rgPErHxPulV27jWQPlBgIrHJNSDLX2vdohzt1v6W5mg9sroIjx-F8AEkWBLL67Jyy0tbrLvvk9K3GQ6uGJXsUgCy7YDvehjTsLAyedGvIqckhlE6B9-okKwC9XrG1ms4Akg8btoYJARQBe-w3YSc1rgf538WGF01znPdNKd44hH-daXB_ag9LR8JbIsQuFImS7UZG0nPSlj__vLdSKlu9MrZpTHqnCwvtYYcrvG3Lx6mB30QxZkQsoklGahGxwPBXEfJ3zo.5ilOfETFBtdOuAUyZl5Yxw.da5bf71d2a5fb514df563ee6acdedd9750e6ae08b48cca10595c10e5ee9ca870&redirect=manual&source=genome.ucsc.edu) and [NCBI RefSeq](https://www.ncbi.nlm.nih.gov/refseq/)"
   ]
  },
  {
   "cell_type": "markdown",
   "id": "117b52ce",
   "metadata": {},
   "source": [
    "## Header"
   ]
  },
  {
   "cell_type": "code",
   "execution_count": 5,
   "id": "09cae7d6",
   "metadata": {},
   "outputs": [],
   "source": [
    "from Bio import SeqIO\n",
    "import polars as pl\n",
    "import yaml"
   ]
  },
  {
   "cell_type": "markdown",
   "id": "f87759e9",
   "metadata": {},
   "source": [
    "## Data"
   ]
  },
  {
   "cell_type": "code",
   "execution_count": 6,
   "id": "071ff56b",
   "metadata": {},
   "outputs": [
    {
     "data": {
      "text/html": [
       "<div><style>\n",
       ".dataframe > thead > tr,\n",
       ".dataframe > tbody > tr {\n",
       "  text-align: right;\n",
       "  white-space: pre-wrap;\n",
       "}\n",
       "</style>\n",
       "<small>shape: (5, 7)</small><table border=\"1\" class=\"dataframe\"><thead><tr><th>id</th><th>length</th><th>sequence</th><th>A</th><th>T</th><th>G</th><th>C</th></tr><tr><td>str</td><td>i64</td><td>str</td><td>u32</td><td>u32</td><td>u32</td><td>u32</td></tr></thead><tbody><tr><td>&quot;sacCer3_ncbiRefSeq_NM_00117815…</td><td>1585</td><td>&quot;gttgtggcgccacacttttttttccataaa…</td><td>452</td><td>416</td><td>319</td><td>398</td></tr><tr><td>&quot;sacCer3_ncbiRefSeq_NM_00118004…</td><td>763</td><td>&quot;ataatgagattgtgtgaaagatgagatata…</td><td>251</td><td>210</td><td>139</td><td>163</td></tr><tr><td>&quot;sacCer3_ncbiRefSeq_NM_00118458…</td><td>628</td><td>&quot;catgggttgttgctatttaaacgatcgctg…</td><td>170</td><td>207</td><td>138</td><td>113</td></tr><tr><td>&quot;sacCer3_ncbiRefSeq_NM_00117820…</td><td>2182</td><td>&quot;actacgggtgcctccacaaatagataagaa…</td><td>692</td><td>729</td><td>415</td><td>346</td></tr><tr><td>&quot;sacCer3_ncbiRefSeq_NM_00117989…</td><td>787</td><td>&quot;cgacatggtgtcctatttccaccacagaat…</td><td>225</td><td>240</td><td>148</td><td>174</td></tr></tbody></table></div>"
      ],
      "text/plain": [
       "shape: (5, 7)\n",
       "┌────────────────────────────────┬────────┬────────────────────────────────┬─────┬─────┬─────┬─────┐\n",
       "│ id                             ┆ length ┆ sequence                       ┆ A   ┆ T   ┆ G   ┆ C   │\n",
       "│ ---                            ┆ ---    ┆ ---                            ┆ --- ┆ --- ┆ --- ┆ --- │\n",
       "│ str                            ┆ i64    ┆ str                            ┆ u32 ┆ u32 ┆ u32 ┆ u32 │\n",
       "╞════════════════════════════════╪════════╪════════════════════════════════╪═════╪═════╪═════╪═════╡\n",
       "│ sacCer3_ncbiRefSeq_NM_00117815 ┆ 1585   ┆ gttgtggcgccacacttttttttccataaa ┆ 452 ┆ 416 ┆ 319 ┆ 398 │\n",
       "│ …                              ┆        ┆ …                              ┆     ┆     ┆     ┆     │\n",
       "│ sacCer3_ncbiRefSeq_NM_00118004 ┆ 763    ┆ ataatgagattgtgtgaaagatgagatata ┆ 251 ┆ 210 ┆ 139 ┆ 163 │\n",
       "│ …                              ┆        ┆ …                              ┆     ┆     ┆     ┆     │\n",
       "│ sacCer3_ncbiRefSeq_NM_00118458 ┆ 628    ┆ catgggttgttgctatttaaacgatcgctg ┆ 170 ┆ 207 ┆ 138 ┆ 113 │\n",
       "│ …                              ┆        ┆ …                              ┆     ┆     ┆     ┆     │\n",
       "│ sacCer3_ncbiRefSeq_NM_00117820 ┆ 2182   ┆ actacgggtgcctccacaaatagataagaa ┆ 692 ┆ 729 ┆ 415 ┆ 346 │\n",
       "│ …                              ┆        ┆ …                              ┆     ┆     ┆     ┆     │\n",
       "│ sacCer3_ncbiRefSeq_NM_00117989 ┆ 787    ┆ cgacatggtgtcctatttccaccacagaat ┆ 225 ┆ 240 ┆ 148 ┆ 174 │\n",
       "│ …                              ┆        ┆ …                              ┆     ┆     ┆     ┆     │\n",
       "└────────────────────────────────┴────────┴────────────────────────────────┴─────┴─────┴─────┴─────┘"
      ]
     },
     "execution_count": 6,
     "metadata": {},
     "output_type": "execute_result"
    }
   ],
   "source": [
    "data=[]\n",
    "\n",
    "for record in SeqIO.parse(\"../data/yeast_test_sequence.fasta\", \"fasta\"):\n",
    "    data.append({\n",
    "        \"id\": record.id,\n",
    "        \"length\": len(record.seq),\n",
    "        \"sequence\": str(record.seq)\n",
    "    })\n",
    "\n",
    "sequences = pl.DataFrame(data)\n",
    "\n",
    "for base in [\"A\", \"T\", \"G\", \"C\"]:\n",
    "    sequences = sequences.with_columns([(pl.col(\"sequence\").str.count_matches(base) + pl.col(\"sequence\").str.count_matches(base.lower())).alias(base)])\n",
    "sequences.head()"
   ]
  },
  {
   "cell_type": "markdown",
   "id": "d2c2e053",
   "metadata": {},
   "source": [
    "## Bases stats"
   ]
  },
  {
   "cell_type": "code",
   "execution_count": 7,
   "id": "de43f7c3",
   "metadata": {},
   "outputs": [
    {
     "name": "stdout",
     "output_type": "stream",
     "text": [
      "{'A': 32.969778188685225, 'T': 28.877710200759886, 'G': 19.527052990794637, 'C': 18.625458619760252}\n"
     ]
    }
   ],
   "source": [
    "length = int(sequences[\"length\"].sum())\n",
    "baseDistribution = {\n",
    "    \"A\": float(100 * sequences[\"A\"].sum() / length),\n",
    "    \"T\": float(100 * sequences[\"T\"].sum() / length),\n",
    "    \"G\": float(100 * sequences[\"G\"].sum() / length),\n",
    "    \"C\": float(100 * sequences[\"C\"].sum() / length)\n",
    "}\n",
    "\n",
    "print(baseDistribution)"
   ]
  },
  {
   "cell_type": "code",
   "execution_count": 8,
   "id": "1e64b81a",
   "metadata": {},
   "outputs": [],
   "source": [
    "stats ={\n",
    "    \"bases distribution\": baseDistribution\n",
    "}\n",
    "\n",
    "with open('statistics.yaml', 'w') as file:\n",
    "    yaml.dump(stats, file)"
   ]
  },
  {
   "cell_type": "code",
   "execution_count": null,
   "id": "4cb8b56e",
   "metadata": {},
   "outputs": [],
   "source": []
  }
 ],
 "metadata": {
  "kernelspec": {
   "display_name": ".venv (3.12.1)",
   "language": "python",
   "name": "python3"
  },
  "language_info": {
   "codemirror_mode": {
    "name": "ipython",
    "version": 3
   },
   "file_extension": ".py",
   "mimetype": "text/x-python",
   "name": "python",
   "nbconvert_exporter": "python",
   "pygments_lexer": "ipython3",
   "version": "3.12.1"
  }
 },
 "nbformat": 4,
 "nbformat_minor": 5
}

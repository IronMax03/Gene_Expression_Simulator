{
 "cells": [
  {
   "cell_type": "markdown",
   "id": "787614f2",
   "metadata": {},
   "source": [
    "This is an exploration file used mainly to explain the containte of this project. The [final implementation](Toolkit.py) might be different but the aproach remain the same."
   ]
  },
  {
   "cell_type": "markdown",
   "id": "42348695",
   "metadata": {},
   "source": [
    "## Stage 1: DNA Transcription"
   ]
  },
  {
   "cell_type": "markdown",
   "id": "1ab2bdd3",
   "metadata": {},
   "source": [
    "### DNA bases & pairing\n",
    "Dna sequences are made of 4 basis: Adenine (**A**), Thymine (**T**), Cytosine (**C**), Guanine (**G**). Each of those basis pairs in the following way: **A-T**, **T-A**, **C-G**, **G-C**. DNA is double-stranded. Only one strand (the **template strand**) is used to make RNA, The other strand is called **coding strand**. DNA is transcribe from 5' to 3'. note that 5' and 3' are simply direction and not points.\n",
    "\n",
    "### mRNA\n",
    "Messenger RNA (mRNA2) is produced by an enzym called **RNA polymerases** that reads the template strand and create a piece of mRNA. RNA as one extra basis called Uracil (**U**). This new basis replace the pairs with Adenine.\n",
    "The process transcribing DNA to mRNA takes the template strand and Build mRNA by completing the pairs. Becaus of the difference of basis Thymine becomes Uracil during the transcription.\n",
    "Example: `ATGCTA -> UACGAU`\n",
    "\n",
    "### Promoter & Terminator\n",
    "**Promoter** is a specific DNA sequence that tells RNA polymerase “start transcribing here.” **Terminator** is a DNA sequence that signals RNA polymerase to stop.\n",
    "Promoters and Terminator arent exaclty define. In this section I will use the following common bacteria(prokaryotes) Promoter & Terminator: `TATAAT`, `TTGACA` as promotors and `TTTTT` as terminator.\n",
    "\n",
    "\n",
    "\n",
    "### Refferences\n",
    "- [Overview of Transcription ](https://bio.libretexts.org/Courses/University_of_Arkansas_Little_Rock/Genetics_BIOL3300_(Leacock)/Genetics_Textbook/02%3A_Central_Dogma/2.01%3A_Overview_of_Transcription)  \n",
    "- [khanacademy](https://www.khanacademy.org/science/biology/dna-as-the-genetic-material)"
   ]
  },
  {
   "cell_type": "markdown",
   "id": "8bc5270c",
   "metadata": {},
   "source": [
    "### Finding Subsequence\n",
    "This function gives all possible subsequence for the first Terminator encountered."
   ]
  },
  {
   "cell_type": "code",
   "execution_count": null,
   "id": "72f81d80",
   "metadata": {},
   "outputs": [
    {
     "name": "stdout",
     "output_type": "stream",
     "text": [
      "[[], []]\n",
      "[[], []]\n"
     ]
    }
   ],
   "source": [
    "\n",
    "PromoterLst = [\"TATAAT\", \"TTGACA\"]\n",
    "Terminator = \"TTTTT\"\n",
    "\n",
    "def Find_DNA_Subsequences(templateStrand: str):\n",
    "    dnaOutput  = []\n",
    "    promoterOutput = []\n",
    "    temp = []\n",
    "    startIndexs = []\n",
    "\n",
    "    i = 0\n",
    "    while i < len(templateStrand):\n",
    "        for promoter in PromoterLst:\n",
    "            if templateStrand[i:i + len(promoter)] == promoter:\n",
    "                startIndexs.append(i + len(promoter))\n",
    "                temp.append(promoter)##########################\n",
    "                continue\n",
    "\n",
    "        if Terminator == templateStrand[i:i + len(Terminator)]:\n",
    "            for start in startIndexs:\n",
    "                dnaOutput.append(templateStrand[start:i])\n",
    "                promoterOutput.append(temp.pop(0))\n",
    "            templateStrand = templateStrand[i + len(Terminator):]\n",
    "            print(templateStrand)\n",
    "            i = 0\n",
    "            startIndexs = []\n",
    "        i = i + 1\n",
    "    \n",
    "    return [dnaOutput, promoterOutput]\n",
    "\n",
    "print(Find_DNA_Subsequences(\"AAATTGACAGCTATAATGGGACCTA\"))\n",
    "print([[], []])"
   ]
  },
  {
   "cell_type": "markdown",
   "id": "a6ff72f5",
   "metadata": {},
   "source": [
    "### Bases Transcription"
   ]
  },
  {
   "cell_type": "code",
   "execution_count": 1,
   "id": "f11afc7e",
   "metadata": {},
   "outputs": [
    {
     "name": "stdout",
     "output_type": "stream",
     "text": [
      "DNA strand: TAC GAT\n",
      "RNA: AUG CUA\n"
     ]
    }
   ],
   "source": [
    "isolatedStrand = \"TAC GAT\"\n",
    "RNA_Sequence = \"\"\n",
    "\n",
    "DNA_RNA_maping = {\n",
    "    'A' : 'U',\n",
    "    'T' : 'A',\n",
    "    'C' : 'G',\n",
    "    'G' : 'C'\n",
    "}\n",
    "\n",
    "for b in isolatedStrand:\n",
    "    if b != ' ':\n",
    "        RNA_Sequence = RNA_Sequence + DNA_RNA_maping[b]\n",
    "    else:\n",
    "        RNA_Sequence = RNA_Sequence + \" \"\n",
    "\n",
    "print(f\"DNA strand: {isolatedStrand}\")\n",
    "print(f\"RNA: {RNA_Sequence}\")"
   ]
  },
  {
   "cell_type": "markdown",
   "id": "ddcaa7d7",
   "metadata": {},
   "source": [
    "## Prokaryote post-transcriptional modification\n",
    "\n",
    " \n",
    "\n",
    "### Reference\n"
   ]
  },
  {
   "cell_type": "code",
   "execution_count": null,
   "id": "401af638",
   "metadata": {},
   "outputs": [],
   "source": []
  },
  {
   "cell_type": "markdown",
   "id": "e2f9c8e0",
   "metadata": {},
   "source": [
    "## Eukaryotes post-transcriptional modification"
   ]
  },
  {
   "cell_type": "markdown",
   "id": "f02c3205",
   "metadata": {},
   "source": [
    "RNA splicing is process that transform pre-mRNA(mRNA produced by transcription) to mature mRNA. This process is only present in Eukaryotes DNA. Some example of Eukaryotes are: animals, plants and mushroom.   \n",
    "\n",
    "Eukaryotes pre-mRNA go through 3 process: Capping, Addition of a poly(A) tail at the 3' end and Splicing.\n",
    "\n",
    "### Capping\n",
    "\"In the capping step of mRNA processing, a methylated-guanosine (7-methyl-G) is linked to the phosphates at the 5' end of the\n",
    "mRNA. The cap protects the 5' end of the mRNA from degradation by nucleases and also helps to position the mRNA correctly on\n",
    "the ribosomes during protein synthesis.\" ([bio.libretexts.org](https://bio.libretexts.org/Courses/University_of_Arkansas_Little_Rock/Genetics_BIOL3300_(Leacock)/Genetics_Textbook/02%3A_Central_Dogma/2.02%3A_RNA_processing))\n",
    "\n",
    "### Addition of a poly(A)\n",
    "\n",
    "### Splicing\n",
    "\n",
    "### Definitions\n",
    "- A **codon** is a sequence of 3 DNA bases that is specific to an amono acid. \n",
    "- \"**Start codons** are codons within an mRNA molecule that indicate the start of protein translation.\" ([microbiologystudy.com](https://microbiologystudy.com/amino-acids-codon-chart-table-and-rna-codon-wheel-microbiologystudy/#Start_Codons))\n",
    "- \"**Stop codons**, also called termination or nonsense codons, serve as signals to terminate the process of protein synthesis during translation.\" ([microbiologystudy.com](https://microbiologystudy.com/amino-acids-codon-chart-table-and-rna-codon-wheel-microbiologystudy/#Start_Codons))\n",
    "### Gene squence and structure \n",
    "A gene can be break down in 2 types of sequences: **Exons** and **Introns**. **Introns** are removed from the gene to only keep only **Exons** in mature mRNA.\n",
    "\n",
    "group 1 Intron:  \n",
    "group 2 Intron:\n",
    "\n",
    "\n",
    "### References\n",
    "- [How to find an intron in DNA sequence?](https://www.youtube.com/watch?v=0EP5wQ0pyvU)\n",
    "- [Matured mRNA](https://en.wikipedia.org/wiki/Mature_messenger_RNA)\n",
    "- [Codons](https://www.britannica.com/science/codon)\n",
    "- [microbiologystudy.com](https://microbiologystudy.com/amino-acids-codon-chart-table-and-rna-codon-wheel-microbiologystudy/#Start_Codons)\n",
    "- [Retrieving Gene & Promoter Sequences](https://www.youtube.com/watch?v=83omZV8Bk3w&list=PLJKUHtYPFMEVcNmqGF2uvsQStJUN4Y-Vv&index=1)"
   ]
  },
  {
   "cell_type": "code",
   "execution_count": null,
   "id": "86f3be3d",
   "metadata": {},
   "outputs": [
    {
     "name": "stdout",
     "output_type": "stream",
     "text": [
      "(\"5'cap0 \", 'CGCAUAGC', 'A10')\n",
      "5'cap0 CGCAUAGCAAA 3'\n",
      "m7GpppN\n"
     ]
    }
   ],
   "source": [
    "def add_cap_and_tail(rna_seq:str, cap_type:int, tail_length:int) -> (str, str, str):\n",
    "    if cap_type > 2 and cap_type < 0:\n",
    "        raise Exception(\"Unknown cap type\")\n",
    "    return (f\"5\\'cap{cap_type} \", rna_seq, \"A\"+ str(tail_length))\n",
    "\n",
    "def convert_to_single_string(mature_mRNA:(str, str, str)) -> str:\n",
    "    tail = \"\"\n",
    "    for i in range(int(mature_mRNA[2][1:])):\n",
    "        tail = tail + mature_mRNA[2][0]\n",
    "    return f\"{mature_mRNA[0]}{mature_mRNA[1]}{tail} 3\\'\"\n",
    "\n",
    "def cap_type_to_biochemical(cap_type:str) -> str:\n",
    "    biochemicalMap = {\n",
    "        \"cap0\": \"m7GpppN\",\n",
    "        \"cap1\": \"m7GpppNm\",\n",
    "        \"cap2\": \"m7GpppNmNm\"\n",
    "    }\n",
    "\n",
    "    if cap_type not in biochemicalMap:\n",
    "        raise Exception(\"Unknown cap type\")\n",
    "\n",
    "    return biochemicalMap[cap_type]\n",
    "\n",
    "\n",
    "print(add_cap_and_tail(\"CGCAUAGC\", 0, 10))\n",
    "print(convert_to_single_string(add_cap_and_tail(\"CGCAUAGC\", 0, 10)))\n",
    "print(cap_type_to_biochemical(\"cap0\"))"
   ]
  },
  {
   "cell_type": "code",
   "execution_count": null,
   "id": "fdcef016",
   "metadata": {},
   "outputs": [],
   "source": []
  },
  {
   "cell_type": "markdown",
   "id": "a93db3cf",
   "metadata": {},
   "source": [
    "## Promoter Prediction Algorithms\n",
    "Transcription factore protein"
   ]
  },
  {
   "cell_type": "code",
   "execution_count": null,
   "id": "21eba94e",
   "metadata": {},
   "outputs": [],
   "source": []
  },
  {
   "cell_type": "markdown",
   "id": "9bca6328",
   "metadata": {},
   "source": [
    "## mRNA Translation\n",
    "\n",
    "https://microbiologystudy.com/amino-acids-codon-chart-table-and-rna-codon-wheel-microbiologystudy/#Stop_Codons"
   ]
  },
  {
   "cell_type": "code",
   "execution_count": 4,
   "id": "b007d373",
   "metadata": {},
   "outputs": [
    {
     "name": "stdout",
     "output_type": "stream",
     "text": [
      "MQLAE\n"
     ]
    }
   ],
   "source": [
    "import yaml\n",
    "with open('../scr/bio_mapping.yaml', 'r') as file: \n",
    "    bio_map = yaml.safe_load(file)\n",
    "\n",
    "mRNA2 = \"CAACAGCAACAA AUG CAA CUA GCU GAA UAA CAACAAGCGCAACAA\"\n",
    "mRNA = \"CAACAGCAACAAAUGCAACUAGCUGAAUAACAACAAGCGCAACAA\"\n",
    "protein = \"\"\n",
    "\n",
    "start = -1\n",
    "\n",
    "for i in range(len(mRNA)):\n",
    "    if bio_map[\"AminoAcidTocodonMap\"][mRNA[i:i + 3]] == \"M\":\n",
    "        mRNA = mRNA[i:]\n",
    "        break\n",
    "\n",
    "for i in range(0, len(mRNA), 3):\n",
    "    if bio_map[\"AminoAcidTocodonMap\"][mRNA[i:i + 3]] == \"-\":\n",
    "        break\n",
    "    protein +=  bio_map[\"AminoAcidTocodonMap\"][mRNA[i:i + 3]]\n",
    "\n",
    "\n",
    "print(protein)"
   ]
  },
  {
   "cell_type": "markdown",
   "id": "8a21a92c",
   "metadata": {},
   "source": [
    "## Error Correction"
   ]
  },
  {
   "cell_type": "code",
   "execution_count": null,
   "id": "e651d452",
   "metadata": {},
   "outputs": [],
   "source": []
  },
  {
   "cell_type": "markdown",
   "id": "f08ce00e",
   "metadata": {},
   "source": [
    "## Protein Folding"
   ]
  },
  {
   "cell_type": "code",
   "execution_count": null,
   "id": "90d17997",
   "metadata": {},
   "outputs": [],
   "source": []
  },
  {
   "cell_type": "markdown",
   "id": "8b64ea76",
   "metadata": {},
   "source": [
    "## Gene Expression Simulation"
   ]
  },
  {
   "cell_type": "code",
   "execution_count": null,
   "id": "a69212c2",
   "metadata": {},
   "outputs": [],
   "source": []
  }
 ],
 "metadata": {
  "kernelspec": {
   "display_name": ".venv (3.12.1)",
   "language": "python",
   "name": "python3"
  },
  "language_info": {
   "codemirror_mode": {
    "name": "ipython",
    "version": 3
   },
   "file_extension": ".py",
   "mimetype": "text/x-python",
   "name": "python",
   "nbconvert_exporter": "python",
   "pygments_lexer": "ipython3",
   "version": "3.12.1"
  }
 },
 "nbformat": 4,
 "nbformat_minor": 5
}

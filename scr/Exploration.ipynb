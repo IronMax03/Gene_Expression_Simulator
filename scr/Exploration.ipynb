{
 "cells": [
  {
   "cell_type": "markdown",
   "id": "787614f2",
   "metadata": {},
   "source": [
    "This is an exploration file used mainly to explain the containte of this project. The [final implementation](Toolkit.py) might be different but the aproach remain the same."
   ]
  },
  {
   "cell_type": "markdown",
   "id": "42348695",
   "metadata": {},
   "source": [
    "## Stage 1: DNA Transcription\n",
    "### DNA bases & pairing\n",
    "Dna sequences are made of 4 basis: Adenine (**A**), Thymine (**T**), Cytosine (**C**), Guanine (**G**). Each of those basis pairs in the following way: **A-T**, **T-A**, **C-G**, **G-C**. DNA is double-stranded. Only one strand (the **template strand**) is used to make RNA, The other strand is called **coding strand**. \n",
    "\n",
    "### mRNA\n",
    "Messenger RNA (mRNA) is produced by an enzym called **RNA polymerases** that reads the template strand and create a piece of mRNA. RNA as one extra basis called Uracil (**U**). This new basis replace the pairs with Adenine.\n",
    "The process transcribing DNA to mRNA takes the template strand and Build mRNA by completing the pairs. Becaus of the difference of basis Thymine becomes Uracil during the transcription.\n",
    "Example: `ATGCTA -> UACGAU`\n",
    "\n",
    "### Promoter & Terminator\n",
    "**Promoter** is a specific DNA sequence that tells RNA polymerase “start transcribing here.” **Terminator** is a DNA sequence that signals RNA polymerase to stop.\n",
    "Promoters and Terminator arent exaclty define. In this section I will use the following common bacteria(prokaryotes) Promoter & Terminator: `TATAAT`, `TTGACA` as promotors and `TTTTT` as terminator.\n",
    "\n",
    "\n",
    "\n",
    "### Refferences\n",
    "[Overview of Transcription ](https://bio.libretexts.org/Courses/University_of_Arkansas_Little_Rock/Genetics_BIOL3300_(Leacock)/Genetics_Textbook/02%3A_Central_Dogma/2.01%3A_Overview_of_Transcription)"
   ]
  },
  {
   "cell_type": "markdown",
   "id": "8bc5270c",
   "metadata": {},
   "source": [
    "### Finding Subsequence"
   ]
  },
  {
   "cell_type": "code",
   "execution_count": null,
   "id": "72f81d80",
   "metadata": {},
   "outputs": [
    {
     "name": "stdout",
     "output_type": "stream",
     "text": [
      "[['GCTATAATGGGACCTAGC', 'GGGACCTAGC'], ['TTGACA', 'TATAAT']]\n"
     ]
    }
   ],
   "source": [
    "\n",
    "PromoterLst = [\"TATAAT\", \"TTGACA\"]\n",
    "Terminator = \"TTTTT\"\n",
    "\n",
    "def Find_DNA_Subsequences(templateStrand: str):\n",
    "    dnaOutput  = []\n",
    "    promoterOutput = []\n",
    "    startIndexs = []\n",
    "    end = -1\n",
    "\n",
    "    for i in range(len(templateStrand)):\n",
    "        for promoter in PromoterLst:\n",
    "            if templateStrand[i:i + len(promoter)] == promoter:\n",
    "                startIndexs.append(i + len(promoter))\n",
    "                promoterOutput.append(promoter)\n",
    "                continue\n",
    "\n",
    "        if Terminator == templateStrand[i:i + len(Terminator)]:\n",
    "            end = i\n",
    "\n",
    "    for start in startIndexs:\n",
    "        dnaOutput.append(templateStrand[start:end])\n",
    "    \n",
    "    return [dnaOutput, promoterOutput]"
   ]
  },
  {
   "cell_type": "markdown",
   "id": "a6ff72f5",
   "metadata": {},
   "source": [
    "### Bases Translation"
   ]
  },
  {
   "cell_type": "code",
   "execution_count": 12,
   "id": "f11afc7e",
   "metadata": {},
   "outputs": [
    {
     "name": "stdout",
     "output_type": "stream",
     "text": [
      "DNA strand: TAC GAT\n",
      "RNA: AUG CUA\n"
     ]
    }
   ],
   "source": [
    "isolatedStrand = \"TAC GAT\"\n",
    "RNA_Sequence = \"\"\n",
    "\n",
    "DNA_RNA_maping = {\n",
    "    'A' : 'U',\n",
    "    'T' : 'A',\n",
    "    'C' : 'G',\n",
    "    'G' : 'C'\n",
    "}\n",
    "\n",
    "for b in isolatedStrand:\n",
    "    if b != ' ':\n",
    "        RNA_Sequence = RNA_Sequence + DNA_RNA_maping[b]\n",
    "    else:\n",
    "        RNA_Sequence = RNA_Sequence + \" \"\n",
    "\n",
    "print(f\"DNA strand: {isolatedStrand}\")\n",
    "print(f\"RNA: {RNA_Sequence}\")"
   ]
  },
  {
   "cell_type": "markdown",
   "id": "a93db3cf",
   "metadata": {},
   "source": [
    "## Promoter Prediction Algorithms"
   ]
  },
  {
   "cell_type": "code",
   "execution_count": null,
   "id": "27aa7f5f",
   "metadata": {},
   "outputs": [],
   "source": []
  },
  {
   "cell_type": "markdown",
   "id": "9bca6328",
   "metadata": {},
   "source": [
    "## RNA Translation"
   ]
  },
  {
   "cell_type": "code",
   "execution_count": null,
   "id": "b007d373",
   "metadata": {},
   "outputs": [],
   "source": []
  },
  {
   "cell_type": "markdown",
   "id": "8a21a92c",
   "metadata": {},
   "source": [
    "## Error Correction"
   ]
  },
  {
   "cell_type": "code",
   "execution_count": null,
   "id": "e651d452",
   "metadata": {},
   "outputs": [],
   "source": []
  },
  {
   "cell_type": "markdown",
   "id": "f08ce00e",
   "metadata": {},
   "source": [
    "## Protein Folding"
   ]
  },
  {
   "cell_type": "code",
   "execution_count": null,
   "id": "90d17997",
   "metadata": {},
   "outputs": [],
   "source": []
  },
  {
   "cell_type": "markdown",
   "id": "8b64ea76",
   "metadata": {},
   "source": [
    "## Gene Expression Simulation"
   ]
  },
  {
   "cell_type": "code",
   "execution_count": null,
   "id": "a69212c2",
   "metadata": {},
   "outputs": [],
   "source": []
  }
 ],
 "metadata": {
  "kernelspec": {
   "display_name": ".venv (3.12.1)",
   "language": "python",
   "name": "python3"
  },
  "language_info": {
   "codemirror_mode": {
    "name": "ipython",
    "version": 3
   },
   "file_extension": ".py",
   "mimetype": "text/x-python",
   "name": "python",
   "nbconvert_exporter": "python",
   "pygments_lexer": "ipython3",
   "version": "3.12.1"
  }
 },
 "nbformat": 4,
 "nbformat_minor": 5
}
